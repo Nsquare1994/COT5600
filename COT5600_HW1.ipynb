{
  "nbformat": 4,
  "nbformat_minor": 0,
  "metadata": {
    "colab": {
      "name": "COT5600 HW1",
      "provenance": [],
      "collapsed_sections": [],
      "include_colab_link": true
    },
    "kernelspec": {
      "name": "python3",
      "display_name": "Python 3"
    }
  },
  "cells": [
    {
      "cell_type": "markdown",
      "metadata": {
        "id": "view-in-github",
        "colab_type": "text"
      },
      "source": [
        "<a href=\"https://colab.research.google.com/github/Nsquare1994/COT5600/blob/master/COT5600_HW1.ipynb\" target=\"_parent\"><img src=\"https://colab.research.google.com/assets/colab-badge.svg\" alt=\"Open In Colab\"/></a>"
      ]
    },
    {
      "cell_type": "code",
      "metadata": {
        "id": "NPQZs8Rjnc6W",
        "colab_type": "code",
        "colab": {
          "base_uri": "https://localhost:8080/",
          "height": 153
        },
        "outputId": "c773ae77-cd89-4c92-fecf-06d12ccff0a5"
      },
      "source": [
        "import numpy as np\n",
        "import scipy.linalg\n",
        "\n",
        "m = np.array([[1, 1, 3, 4],[-1, 1, 5, 6],[0, 0, 1, 2],[0, 0, 3, 2]])\n",
        "\n",
        "#test if poly annihilates with M\n",
        "# if (M-root*I) is 0\n",
        "#poly annihilates with M\n",
        "def annihilate_poly(m):\n",
        "  #compute the poly of matrix M\n",
        "  poly = np.poly(m)\n",
        "  #root of poly\n",
        "  root = np.roots(poly)\n",
        "  print(m)\n",
        "  print(poly)\n",
        "  print(root)\n",
        "  root = root.reshape(2,2)\n",
        "  print(root)\n",
        "  #print(np.identity(m.ndim))\n",
        "  #print(m-(root*np.identity(m.ndim)))\n",
        "\n",
        "annihilate_poly(m)"
      ],
      "execution_count": 1,
      "outputs": [
        {
          "output_type": "stream",
          "text": [
            "[[ 1  1  3  4]\n",
            " [-1  1  5  6]\n",
            " [ 0  0  1  2]\n",
            " [ 0  0  3  2]]\n",
            "[ 1. -5.  4.  2. -8.]\n",
            "[ 4.+0.j  1.+1.j  1.-1.j -1.+0.j]\n",
            "[[ 4.+0.j  1.+1.j]\n",
            " [ 1.-1.j -1.+0.j]]\n"
          ],
          "name": "stdout"
        }
      ]
    }
  ]
}