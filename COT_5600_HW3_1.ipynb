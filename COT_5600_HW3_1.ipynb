{
  "nbformat": 4,
  "nbformat_minor": 0,
  "metadata": {
    "colab": {
      "name": "COT 5600 HW3 1.ipynb",
      "provenance": [],
      "collapsed_sections": [],
      "authorship_tag": "ABX9TyN/wTwmlykNI8lNLRkHb6cn",
      "include_colab_link": true
    },
    "kernelspec": {
      "name": "python3",
      "display_name": "Python 3"
    }
  },
  "cells": [
    {
      "cell_type": "markdown",
      "metadata": {
        "id": "view-in-github",
        "colab_type": "text"
      },
      "source": [
        "<a href=\"https://colab.research.google.com/github/Nsquare1994/COT5600/blob/master/COT_5600_HW3_1.ipynb\" target=\"_parent\"><img src=\"https://colab.research.google.com/assets/colab-badge.svg\" alt=\"Open In Colab\"/></a>"
      ]
    },
    {
      "cell_type": "code",
      "metadata": {
        "id": "yVTt6kZR0CoY",
        "colab_type": "code",
        "colab": {
          "base_uri": "https://localhost:8080/",
          "height": 119
        },
        "outputId": "65052583-b227-42bb-c8a5-a8f94b39f7fd"
      },
      "source": [
        "#problem 1 fourier\n",
        "\n",
        "import numpy as np\n",
        "\n",
        "def get_fourier_matrix(N):\n",
        "\n",
        "  omega = np.exp((2*np.pi*1j)/N)\n",
        "  \n",
        "  return np.asarray([[(omega**(i*j))/np.sqrt(N) for i in range(N)] for j in range(N)])\n",
        " \n",
        "\n",
        "def check_unitary(N):\n",
        "  N = np.asarray(N)\n",
        "  return(np.allclose(np.eye(N.shape[0]), N.dot(N.conj().T)))\n",
        "\n",
        "def four_power(N):\n",
        "  return np.allclose(np.eye(N.shape[0]), np.linalg.matrix_power(N, 4))\n",
        "\n",
        "def e_value(N):\n",
        "  fourier = get_fourier_matrix(N)\n",
        "  i, j = np.linalg.eig(fourier)\n",
        "  return np.round(i)\n",
        "\n",
        "print(\"Testing with 3\")\n",
        "print(get_fourier_matrix(3))\n",
        "print(check_unitary(get_fourier_matrix(3)))\n",
        "print(four_power(get_fourier_matrix(3)))\n",
        "print(e_value(3))"
      ],
      "execution_count": 9,
      "outputs": [
        {
          "output_type": "stream",
          "text": [
            "[[ 0.57735027+0.j   0.57735027+0.j   0.57735027+0.j ]\n",
            " [ 0.57735027+0.j  -0.28867513+0.5j -0.28867513-0.5j]\n",
            " [ 0.57735027+0.j  -0.28867513-0.5j -0.28867513+0.5j]]\n",
            "True\n",
            "True\n",
            "[ 1.+0.j -1.+0.j  0.+1.j]\n"
          ],
          "name": "stdout"
        }
      ]
    },
    {
      "cell_type": "code",
      "metadata": {
        "id": "JqsYJdIQVQgL",
        "colab_type": "code",
        "colab": {
          "base_uri": "https://localhost:8080/",
          "height": 153
        },
        "outputId": "ca2cb2e1-5600-4075-81be-d31af5edc1d7"
      },
      "source": [
        "#problem 2 cyclic\n",
        "\n",
        "import numpy as np\n",
        "\n",
        "def get_fourier_matrix(N):\n",
        "  omega = np.exp((2*np.pi*1j)/N)\n",
        "  return np.asarray([[(omega**(i*j))/np.sqrt(N) for i in range(N)] for j in range(N)])\n",
        "\n",
        "def get_cyclic_shift_matrix(N):\n",
        "  m = np.zeros((N, N))\n",
        "  for i in range(N):\n",
        "    for j in range(N):\n",
        "      if(j == ((i+1)%N)):\n",
        "        m[i][j] = 1\n",
        "  return m\n",
        "\n",
        "def check_unitary(N):\n",
        "  N = np.asarray(N)\n",
        "  return(np.allclose(np.eye(N.shape[0]), N.dot(N.conj().T)))\n",
        "\n",
        "def N_power(N, nPower):\n",
        "  return np.allclose(np.eye(N.shape[0]), np.linalg.matrix_power(N, nPower))\n",
        "\n",
        "def e_value(N):\n",
        "  c = get_cyclic_shift_matrix(N)\n",
        "  i, j = np.linalg.eig(c)\n",
        "  return np.round(i)\n",
        "\n",
        "def diagonal(N):\n",
        "  c = get_cyclic_shift_matrix(N)\n",
        "  f = get_fourier_matrix(N)\n",
        "  d = np.dot(np.conj(f).T, np.dot(c, f))\n",
        "  for i in range(0, N): \n",
        "        for j in range(0, N) : \n",
        "              \n",
        "    \n",
        "            if ((i != j) and\n",
        "             (d[i][j] != 0)) : \n",
        "                return False\n",
        "  \n",
        "  return True\n",
        "\n",
        "print(get_cyclic_shift_matrix(4))\n",
        "print(check_unitary(get_cyclic_shift_matrix(4)))\n",
        "print(N_power(get_cyclic_shift_matrix(4), 4))\n",
        "print(e_value(4))\n",
        "print(diagonal(4))"
      ],
      "execution_count": 17,
      "outputs": [
        {
          "output_type": "stream",
          "text": [
            "[[0. 1. 0. 0.]\n",
            " [0. 0. 1. 0.]\n",
            " [0. 0. 0. 1.]\n",
            " [1. 0. 0. 0.]]\n",
            "True\n",
            "True\n",
            "[-1.+0.j  0.+1.j  0.-1.j  1.+0.j]\n",
            "False\n"
          ],
          "name": "stdout"
        }
      ]
    }
  ]
}