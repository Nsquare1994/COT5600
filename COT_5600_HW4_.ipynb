{
  "nbformat": 4,
  "nbformat_minor": 0,
  "metadata": {
    "colab": {
      "name": "COT 5600 HW4 .ipynb",
      "provenance": [],
      "collapsed_sections": [],
      "authorship_tag": "ABX9TyOtvPJPdTwNLnMk2usWFxRL",
      "include_colab_link": true
    },
    "kernelspec": {
      "name": "python3",
      "display_name": "Python 3"
    }
  },
  "cells": [
    {
      "cell_type": "markdown",
      "metadata": {
        "id": "view-in-github",
        "colab_type": "text"
      },
      "source": [
        "<a href=\"https://colab.research.google.com/github/Nsquare1994/COT5600/blob/master/COT_5600_HW4_.ipynb\" target=\"_parent\"><img src=\"https://colab.research.google.com/assets/colab-badge.svg\" alt=\"Open In Colab\"/></a>"
      ]
    },
    {
      "cell_type": "code",
      "metadata": {
        "id": "HPXDN4SN0NDT",
        "colab_type": "code",
        "colab": {}
      },
      "source": [
        "#problem 1\n",
        "def floyd(f, x0):\n",
        "    # Main phase of algorithm: finding a repetition x_i = x_2i.\n",
        "    # The hare moves twice as quickly as the tortoise and\n",
        "    # the distance between them increases by 1 at each step.\n",
        "    # Eventually they will both be inside the cycle and then,\n",
        "    # at some point, the distance between them will be\n",
        "    # divisible by the period λ.\n",
        "    tortoise = f(x0) # f(x0) is the element/node next to x0.\n",
        "    hare = f(f(x0))\n",
        "    while tortoise != hare:\n",
        "        tortoise = f(tortoise)\n",
        "        hare = f(f(hare))\n",
        "  \n",
        "    # At this point the tortoise position, ν, which is also equal\n",
        "    # to the distance between hare and tortoise, is divisible by\n",
        "    # the period λ. So hare moving in circle one step at a time, \n",
        "    # and tortoise (reset to x0) moving towards the circle, will \n",
        "    # intersect at the beginning of the circle. Because the \n",
        "    # distance between them is constant at 2ν, a multiple of λ,\n",
        "    # they will agree as soon as the tortoise reaches index μ.\n",
        "\n",
        "    # Find the position μ of first repetition.    \n",
        "    mu = 0\n",
        "    tortoise = x0\n",
        "    while tortoise != hare:\n",
        "        tortoise = f(tortoise)\n",
        "        hare = f(hare)   # Hare and tortoise move at same speed\n",
        "        mu += 1\n",
        " \n",
        "    # Find the length of the shortest cycle starting from x_μ\n",
        "    # The hare moves one step at a time while tortoise is still.\n",
        "    # lam is incremented until λ is found.\n",
        "    lam = 1\n",
        "    hare = f(tortoise)\n",
        "    while tortoise != hare:\n",
        "        hare = f(hare)\n",
        "        lam += 1\n",
        " \n",
        "    return lam, mu\n",
        "\n",
        "  #code from https://en.wikipedia.org/wiki/Cycle_detection"
      ],
      "execution_count": 0,
      "outputs": []
    },
    {
      "cell_type": "code",
      "metadata": {
        "id": "m1-ohoYKdMwZ",
        "colab_type": "code",
        "colab": {
          "base_uri": "https://localhost:8080/",
          "height": 34
        },
        "outputId": "b760d99b-daae-4a36-9317-aac003b7e6fa"
      },
      "source": [
        "#problem 2\n",
        "def find_order(a, N):\n",
        "\n",
        "  if(math.gcd(a, N)) != 1:\n",
        "    return -1\n",
        "\n",
        "  def f(x):\n",
        "    return (a*x)%N\n",
        "\n",
        "  r = floyd(f, 1)\n",
        "\n",
        "  return r[0]\n",
        "\n",
        "find_order(4, 7)"
      ],
      "execution_count": 27,
      "outputs": [
        {
          "output_type": "execute_result",
          "data": {
            "text/plain": [
              "3"
            ]
          },
          "metadata": {
            "tags": []
          },
          "execution_count": 27
        }
      ]
    },
    {
      "cell_type": "code",
      "metadata": {
        "id": "3DlBsSxMfTht",
        "colab_type": "code",
        "colab": {
          "base_uri": "https://localhost:8080/",
          "height": 34
        },
        "outputId": "e2205d7e-d016-419a-84d8-bbcbc50cfa0a"
      },
      "source": [
        "import numpy as np\n",
        "import math\n",
        "#problem 3\n",
        "\n",
        "def factor(N):\n",
        "  while True:\n",
        "    r = np.random.randint(2, N)\n",
        "    o = find_order(r, N)\n",
        "\n",
        "    if(o == -1):\n",
        "      return math.gcd(r, N)\n",
        "  \n",
        "    if((o % 2)  == 0):\n",
        "      f = math.gcd(r**((o//2) - 1), N)\n",
        "      if(f != 1 and f != N):\n",
        "        return f\n",
        "factor(1024)"
      ],
      "execution_count": 25,
      "outputs": [
        {
          "output_type": "execute_result",
          "data": {
            "text/plain": [
              "2"
            ]
          },
          "metadata": {
            "tags": []
          },
          "execution_count": 25
        }
      ]
    }
  ]
}