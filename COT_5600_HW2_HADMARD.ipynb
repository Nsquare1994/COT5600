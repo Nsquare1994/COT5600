{
  "nbformat": 4,
  "nbformat_minor": 0,
  "metadata": {
    "colab": {
      "name": "COT 5600 HW2 HADMARD.ipynb",
      "provenance": [],
      "authorship_tag": "ABX9TyNgVcQSeznqdRREAws2ULsp",
      "include_colab_link": true
    },
    "kernelspec": {
      "name": "python3",
      "display_name": "Python 3"
    }
  },
  "cells": [
    {
      "cell_type": "markdown",
      "metadata": {
        "id": "view-in-github",
        "colab_type": "text"
      },
      "source": [
        "<a href=\"https://colab.research.google.com/github/Nsquare1994/COT5600/blob/master/COT_5600_HW2_HADMARD.ipynb\" target=\"_parent\"><img src=\"https://colab.research.google.com/assets/colab-badge.svg\" alt=\"Open In Colab\"/></a>"
      ]
    },
    {
      "cell_type": "code",
      "metadata": {
        "id": "gXv6TS6ozywk",
        "colab_type": "code",
        "colab": {
          "base_uri": "https://localhost:8080/",
          "height": 265
        },
        "outputId": "e25a91de-e033-4657-d9e0-71c88ee60552"
      },
      "source": [
        "import numpy as np\n",
        "import matplotlib.pyplot as plt\n",
        "import scipy\n",
        "import scipy.linalg\n",
        "\n",
        "zero = np.array([[1.0],[0.0]])\n",
        "one = np.array([[0.0],[1.0]])\n",
        "\n",
        "hadamard = 1./np.sqrt(2) * np.array([[1, 1],[1, -1]])\n",
        "\n",
        "def control_gate(x):\n",
        "  return np.kron(np.outer(zero,zero), np.eye(2)) + np.kron(np.outer(one,one), x)\n",
        "\n",
        "def hadamard_test(ket_psi, u):\n",
        "  tensor0 = np.kron(zero, ket_psi)\n",
        "  h = np.kron(hadamard, np.eye(2))\n",
        "  controled = control_gate(u)\n",
        "  H = np.matmul(h, tensor0)\n",
        "  H = np.matmul(controled, H)\n",
        "  H = np.matmul(h, H) \n",
        "  return H\n",
        "\n",
        "def measurements(H):\n",
        "  p = np.kron(np.outer(zero,zero), np.eye(2))\n",
        "  p0 = scipy.linalg.norm(np.matmul(p, H))**2\n",
        "  return p0\n",
        "\n",
        "\n",
        "x = np.array([[0, 1],[1, 0]])\n",
        "testsize = 50\n",
        "X = np.linspace(0, 1, testsize)\n",
        "\n",
        "space = []\n",
        "\n",
        "for i in X: #i for theta\n",
        "  u = np.diagflat([1, np.exp(2*np.pi*1j*i)])\n",
        "  space.append(measurements(hadamard_test(one, u)))\n",
        "\n",
        "plt.plot(X, space)\n",
        "plt.show()"
      ],
      "execution_count": 32,
      "outputs": [
        {
          "output_type": "display_data",
          "data": {
            "image/png": "[encoded data removed]",
            "text/plain": [
              "<Figure size 432x288 with 1 Axes>"
            ]
          },
          "metadata": {
            "tags": [],
            "needs_background": "light"
          }
        }
      ]
    }
  ]
}