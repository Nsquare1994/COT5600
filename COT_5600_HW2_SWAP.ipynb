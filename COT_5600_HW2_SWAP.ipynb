{
  "nbformat": 4,
  "nbformat_minor": 0,
  "metadata": {
    "colab": {
      "name": "COT 5600 HW2 SWAP.ipynb",
      "provenance": [],
      "authorship_tag": "ABX9TyOWakgUxuZFKGoXhYOIrHcp",
      "include_colab_link": true
    },
    "kernelspec": {
      "name": "python3",
      "display_name": "Python 3"
    }
  },
  "cells": [
    {
      "cell_type": "markdown",
      "metadata": {
        "id": "view-in-github",
        "colab_type": "text"
      },
      "source": [
        "<a href=\"https://colab.research.google.com/github/Nsquare1994/COT5600/blob/master/COT_5600_HW2_SWAP.ipynb\" target=\"_parent\"><img src=\"https://colab.research.google.com/assets/colab-badge.svg\" alt=\"Open In Colab\"/></a>"
      ]
    },
    {
      "cell_type": "code",
      "metadata": {
        "id": "pIErS5Eb52Gn",
        "colab_type": "code",
        "colab": {
          "base_uri": "https://localhost:8080/",
          "height": 265
        },
        "outputId": "0ff31879-04ca-4d91-d492-49896b7f3707"
      },
      "source": [
        "import numpy as np\n",
        "import matplotlib.pyplot as plt\n",
        "from mpl_toolkits.mplot3d import Axes3D\n",
        "from matplotlib import cm\n",
        "from matplotlib.ticker import LinearLocator, FormatStrFormatter\n",
        "\n",
        "%matplotlib inline\n",
        "\n",
        "zero = np.array([[1.0], [0.0]])\n",
        "one = np.array([[0.0], [1.0]])\n",
        "\n",
        "plus_z = np.dot(zero, zero.T)\n",
        "plus_o = np.dot(one, one.T)\n",
        "\n",
        "hadamard = 1.0/np.sqrt(2)* np.array([[1,1],[1,-1]])\n",
        "\n",
        "def kron_(*args):\n",
        "  r = np.array([[1.0]])\n",
        "  for i in args:\n",
        "    r = np.kron(r, i)\n",
        "  return r\n",
        "\n",
        "def hadamard_test(n):\n",
        "  h = kron_(hadamard, np.eye(4))\n",
        "  h = np.dot(h, kron_(plus_z, np.eye(4)) + kron_(plus_o, n))\n",
        "  h = np.dot(h, kron_(hadamard, np.eye(4)))\n",
        "  return h\n",
        "\n",
        "def measurements(f):\n",
        "  #matrices\n",
        "  m0 = kron_(plus_z, np.eye(4))\n",
        "  m1 = kron_(plus_o, np.eye(4))\n",
        "  #probability\n",
        "  p0 = np.round(np.square(np.linalg.norm(np.dot(m0, f))),6)\n",
        "  p1 = np.round(np.square(np.linalg.norm(np.dot(m1, f))),6)\n",
        "  return p0, p1\n",
        "\n",
        "def ket_(i, n):\n",
        "  r = np.zeros((2**n,))\n",
        "  r[i] = 1\n",
        "  return r\n",
        "\n",
        "def swap_test():\n",
        "  s = np.outer(ket_(0,2), ket_(0,2)) + np.outer(ket_(1,2), ket_(2,2)) + np.outer(ket_(2,2), ket_(1,2)) + np.outer(ket_(3,2), ket_(3,2))\n",
        "  return s\n",
        "\n",
        "h = hadamard_test(swap_test())\n",
        "\n",
        "t_ang = []\n",
        "p0 = []\n",
        "\n",
        "for i in range(100):\n",
        "  i = i/100 \n",
        "  ang2 = np.cos(2*np.pi*i)*zero + np.sin(2*np.pi*i)*one\n",
        "  f = np.dot(h, kron_(zero, zero, ang2))\n",
        "  prob0, prob1 = measurements(f)\n",
        "  t_ang.append(i*2*np.pi)\n",
        "  p0.append(prob0)\n",
        "\n",
        "plt.plot(t_ang, p0)\n",
        "plt.show()"
      ],
      "execution_count": 8,
      "outputs": [
        {
          "output_type": "display_data",
          "data": {
            "image/png": "[encoded data removed]",
            "text/plain": [
              "<Figure size 432x288 with 1 Axes>"
            ]
          },
          "metadata": {
            "tags": [],
            "needs_background": "light"
          }
        }
      ]
    }
  ]
}